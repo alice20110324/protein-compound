{
 "cells": [
  {
   "cell_type": "code",
   "execution_count": 2,
   "id": "5a98c93c",
   "metadata": {},
   "outputs": [
    {
     "name": "stdout",
     "output_type": "stream",
     "text": [
      "           0\n",
      "0     0.0248\n",
      "1     0.0208\n",
      "2     0.0162\n",
      "3     0.0117\n",
      "4     0.0077\n",
      "...      ...\n",
      "3366  0.0275\n",
      "3367  0.0341\n",
      "3368  0.0307\n",
      "3369  0.0978\n",
      "3370  0.0279\n",
      "\n",
      "[3371 rows x 1 columns]\n"
     ]
    }
   ],
   "source": [
    "import pandas as pd \n",
    "\n",
    "df=pd.read_csv('2.csv',sep=',',header=None)\n",
    "print(df)"
   ]
  },
  {
   "cell_type": "code",
   "execution_count": 6,
   "id": "ee048c00",
   "metadata": {},
   "outputs": [
    {
     "name": "stdout",
     "output_type": "stream",
     "text": [
      "865.1222\n"
     ]
    }
   ],
   "source": [
    "\n",
    "he= df.iloc[:,0].sum()\n",
    "print(he)"
   ]
  },
  {
   "cell_type": "code",
   "execution_count": 7,
   "id": "824b9962",
   "metadata": {},
   "outputs": [
    {
     "name": "stdout",
     "output_type": "stream",
     "text": [
      "0.25663666567784044\n"
     ]
    }
   ],
   "source": [
    "mean=df.iloc[:,0].mean()\n",
    "print(mean)"
   ]
  },
  {
   "cell_type": "code",
   "execution_count": 9,
   "id": "709ff32e",
   "metadata": {},
   "outputs": [
    {
     "name": "stdout",
     "output_type": "stream",
     "text": [
      "0.5065931954515778\n"
     ]
    }
   ],
   "source": [
    "import math\n",
    "print(math.sqrt(mean))"
   ]
  },
  {
   "cell_type": "code",
   "execution_count": null,
   "id": "6708bb34",
   "metadata": {},
   "outputs": [],
   "source": []
  }
 ],
 "metadata": {
  "kernelspec": {
   "display_name": "Python 3 (ipykernel)",
   "language": "python",
   "name": "python3"
  },
  "language_info": {
   "codemirror_mode": {
    "name": "ipython",
    "version": 3
   },
   "file_extension": ".py",
   "mimetype": "text/x-python",
   "name": "python",
   "nbconvert_exporter": "python",
   "pygments_lexer": "ipython3",
   "version": "3.8.12"
  }
 },
 "nbformat": 4,
 "nbformat_minor": 5
}
