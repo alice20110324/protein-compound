{
 "cells": [
  {
   "cell_type": "code",
   "execution_count": 23,
   "id": "26f9718e",
   "metadata": {},
   "outputs": [],
   "source": [
    "import pandas as pd \n",
    "import os\n",
    "import csv"
   ]
  },
  {
   "cell_type": "code",
   "execution_count": 24,
   "id": "1dbb5d98",
   "metadata": {},
   "outputs": [],
   "source": [
    "pathes='dataset/affinity/CASF-2016/coreset/'\n",
    "\n",
    "\n",
    "\n",
    "dirs=[]\n",
    "for root, dirs, files in os.walk(pathes):\n",
    "    ##print(dirs)\n",
    "    dirs=dirs\n",
    "    break\n"
   ]
  },
  {
   "cell_type": "code",
   "execution_count": 60,
   "id": "3691f3da",
   "metadata": {},
   "outputs": [],
   "source": [
    "#蛋白质从pdb文件中提取序列生成fasta文件\n",
    "#save as file namedd protein_sequences.fasta\n",
    "#but the format is not right\n",
    "#找到fasta文件\n",
    "\n",
    "save_fastas='dataset/affinity/CASF-2016/protein_sequences.fasta'\n",
    "num=0\n",
    "with open(save_fastas,'w+') as f_w:\n",
    "    for i in dirs:\n",
    "        num=num+1\n",
    "        subpath=os.path.join(pathes,i)\n",
    "        #print(subpath)\n",
    "        dirfiles=os.listdir(subpath)\n",
    "        for  j in dirfiles:\n",
    "            #print(j)\n",
    "            if '_sequence.fasta' in j:\n",
    "                subfile=os.path.join(subpath,j)\n",
    "                    \n",
    "                \n",
    "            \n",
    "                \n",
    "                with open(subfile, 'r+') as f_r:\n",
    "                    \n",
    "                    lines=f_r.readlines()\n",
    "                    for k,m_line in enumerate(lines):\n",
    "                        f_w.write(m_line)\n",
    "                        #f_w.write('\\n')\n",
    "                        #print(m_line)\n",
    "                        \n",
    "                        #print(m_line)\n",
    "                    #f_w.write('\\n')\n",
    "                    f_r.close()\n",
    "                \n",
    "                  "
   ]
  },
  {
   "cell_type": "code",
   "execution_count": 61,
   "id": "0a95c76f",
   "metadata": {},
   "outputs": [
    {
     "data": {
      "text/plain": [
       "<function print>"
      ]
     },
     "execution_count": 61,
     "metadata": {},
     "output_type": "execute_result"
    }
   ],
   "source": [
    "#小分子所有文件聚合在一起\n",
    "\n",
    "#保存到molecular_smiles.csv\n",
    "\n",
    "save_fastas='molecular_smiles.csv'\n",
    "num=0\n",
    "with open(save_fastas,'w+') as f_w:\n",
    "    smiles_writer=csv.writer(f_w)\n",
    "    columns=['code','smiles']\n",
    "    smiles_writer.writerow(columns)\n",
    "    for i in dirs:\n",
    "        num=num+1\n",
    "        subpath=os.path.join(pathes,i)\n",
    "        #print(subpath)\n",
    "        dirfiles=os.listdir(subpath)\n",
    "        for  j in dirfiles:\n",
    "            #print(j)\n",
    "            if j.endswith('.csv'):\n",
    "                #print(j)\n",
    "                subfile=os.path.join(subpath,j)\n",
    "            \n",
    "\n",
    "            \n",
    "                \n",
    "                with open(subfile, 'r+') as f_r:\n",
    "                    #f_w.write(pp.get_sequence())\n",
    "                    lines=csv.reader(f_r)\n",
    "                    for m_line in lines:\n",
    "                        smiles_writer.writerow(m_line)\n",
    "                        #print(m_line)\n",
    "                    f_r.close()\n",
    "print                    "
   ]
  },
  {
   "cell_type": "code",
   "execution_count": 62,
   "id": "a1710ff7",
   "metadata": {},
   "outputs": [],
   "source": [
    "#把 code，fasta，molecular， kid合成一个文件\n",
    "\n",
    "\n",
    "import pandas as pd \n",
    "import os \n",
    "\n"
   ]
  },
  {
   "cell_type": "code",
   "execution_count": 63,
   "id": "ab44d46b",
   "metadata": {},
   "outputs": [
    {
     "name": "stdout",
     "output_type": "stream",
     "text": [
      "line_columns: ['#code', 'resl', 'year', 'logKa', 'Ka', 'target']\n"
     ]
    }
   ],
   "source": [
    "\n",
    "\n",
    "#change .dat file into .csv file\n",
    "coset_file='dataset/affinity/coset_power_scoring.csv'\n",
    "\n",
    "df=pd.read_csv('dataset/affinity/CASF-2016/power_scoring/CoreSet.dat',sep=',')\n",
    "#print(df)\n",
    "rows,cols=df.shape\n",
    "columns=[]\n",
    "line_csv=[]\n",
    "with open(coset_file,'w+') as f_w:\n",
    "    coset_writer=csv.writer(f_w)\n",
    "    line_s=[]\n",
    "    for i in range(rows):\n",
    "        line=df.iloc[i,:]\n",
    "        line_str=str(line)\n",
    "        #print(type(line_str),line_str)\n",
    "        #print(line_str)\n",
    "        line_list=line_str.split()\n",
    "        for j in line_list:\n",
    "            if j=='':############'' not ' '\n",
    "                line_list.remove(j)\n",
    "                \n",
    "        if i==0:\n",
    "            columns=line_list[0:6]\n",
    "            line_csv=line_list[6:12]\n",
    "            coset_writer.writerow(columns)\n",
    "            coset_writer.writerow(line_csv)\n",
    "            print('line_columns:',columns)\n",
    "        else:\n",
    "            line_csv=line_list[6:12]\n",
    "            coset_writer.writerow(line_csv)\n",
    "            #print('line_csv:',line_csv)\n",
    "        \n",
    "        #print(line_csv[0])\n",
    "        #print(line_csv[1])\n",
    "        \n",
    "        #line_csv.append('\\n')\n",
    "        \n",
    "            \n",
    "        \n",
    "        #print(line_str)\n",
    "        #break\n",
    "        #columns=line_list[:6]\n",
    "        #print('columns:',columns)\n",
    "        \n",
    "        "
   ]
  },
  {
   "cell_type": "code",
   "execution_count": 39,
   "id": "1b09b4aa",
   "metadata": {},
   "outputs": [
    {
     "name": "stdout",
     "output_type": "stream",
     "text": [
      "    #code  resl  year  logKa         Ka  target\n",
      "0    4llx  1.75  2014   2.89  Ki=1300uM       1\n",
      "1    5c28  1.56  2015   5.66   Ki=2.2uM       1\n",
      "2    3uuo  2.11  2012   7.96    Ki=11nM       1\n",
      "3    3ui7  2.28  2011   9.00     Ki=1nM       1\n",
      "4    5c2h  2.09  2015  11.09   Ki=8.2pM       1\n",
      "..    ...   ...   ...    ...        ...     ...\n",
      "280  3dxg  1.39  2009   2.40   Ki=4.0mM      57\n",
      "281  3d6q  1.60  2009   3.76   Ki=172uM      57\n",
      "282  1w4o  1.60  2005   5.22     Ki=6uM      57\n",
      "283  1o0h  1.20  2003   5.92   Ki=1.2uM      57\n",
      "284  1u1b  2.00  2005   7.80    Kd=16nM      57\n",
      "\n",
      "[285 rows x 6 columns]\n"
     ]
    }
   ],
   "source": [
    "df1=pd.read_csv(coset_file,sep=',')\n",
    "print(df1)\n",
    "#print(df1.iloc[1,:])\n",
    "#820824"
   ]
  },
  {
   "cell_type": "code",
   "execution_count": 40,
   "id": "94213c83",
   "metadata": {},
   "outputs": [],
   "source": [
    "import pandas as pd \n",
    "import os\n",
    "import csv"
   ]
  },
  {
   "cell_type": "code",
   "execution_count": 70,
   "id": "94053b59",
   "metadata": {},
   "outputs": [],
   "source": [
    "#遍历code,fasta as interaction ,合成新的文件\n",
    "\n",
    "coset_df=pd.read_csv('dataset/affinity/coset_power_scoring.csv',sep=',')\n",
    "\n",
    "#print(code_list)\n",
    "\n",
    "coset_df.sort_values(['#code'],axis=0,inplace=True)\n",
    "\n",
    "#print(coset_df)\n",
    "code_list=coset_df.iloc[:,0].tolist()\n",
    "faster_file='protein_sequences.fasta'\n",
    "\n",
    "interaction_file='dataset/affinity/interaction.csv'\n",
    "\n",
    "\n",
    "\n",
    "\n",
    "columns=['code','res1','year','logKa','Ka','target','sequence']\n",
    "with open(interaction_file,'w+') as f_w:\n",
    "    interaction_writer=csv.writer(f_w)\n",
    "    interaction_writer.writerow(columns)\n",
    "    with open(faster_file,'r+') as f_r:\n",
    "        \n",
    "        faster_line=f_r.readline()\n",
    "        rows=0\n",
    "        \n",
    "        data=[]\n",
    "        while faster_line:\n",
    "            #print('fasta:',faster_file)\n",
    "            if rows%2==0:\n",
    "                code=faster_line\n",
    "                #print('code:',code)\n",
    "                code=code[1:]\n",
    "                #print('code1:',code)\n",
    "                code=code.strip()\n",
    "                code=code.lower()\n",
    "                #x_1=f_r.readline()########读一个空行\n",
    "                #print('x_1:',x_1)\n",
    "                sequences=f_r.readline()\n",
    "                #print('sequence:',sequences)\n",
    "                #smiles=\n",
    "                #print('code:',code,type(code))\n",
    "                #print('sequence:',smiles)\n",
    "                #x_2=f_r.readline()######读一个空行\n",
    "                #print('x_2:',x_2)\n",
    "                for j,coset_code in enumerate(code_list):\n",
    "                    #print('coset_code:',coset_code)\n",
    "                    coset_code=coset_code.strip()\n",
    "                    coset_code=coset_code.lower()\n",
    "                    if coset_code==code:\n",
    "                        #print('coset_code:',code)\n",
    "                        data=coset_df.iloc[j,:].tolist()\n",
    "                        #print('first data:',data)\n",
    "                        data.append(sequences[:-1])#drop off the last char of '\\n'\n",
    "                        #print('append data:',data)\n",
    "                        interaction_writer.writerow(data)\n",
    "                        #print(j)\n",
    "                        break\n",
    "            rows=rows+2\n",
    "            faster_line=f_r.readline()\n",
    "            #print('fasta:',faster_file)\n",
    "                        \n",
    "            \n",
    "        "
   ]
  },
  {
   "cell_type": "code",
   "execution_count": 71,
   "id": "b9febbfc",
   "metadata": {},
   "outputs": [
    {
     "data": {
      "text/plain": [
       "\"\\nwith open('protein_sequences.fasta','r+') as f_r:\\n    faster_line=f_r.readline()\\n    row=0\\n    while faster_line:\\n        if row %2==1:\\n            print(faster_line)\\n        row=row+1\\n        faster_line=f_r.readline()\\n        #print(row)\\n\""
      ]
     },
     "execution_count": 71,
     "metadata": {},
     "output_type": "execute_result"
    }
   ],
   "source": [
    "#test fasta文件\n",
    "'''\n",
    "with open('protein_sequences.fasta','r+') as f_r:\n",
    "    faster_line=f_r.readline()\n",
    "    row=0\n",
    "    while faster_line:\n",
    "        if row %2==1:\n",
    "            print(faster_line)\n",
    "        row=row+1\n",
    "        faster_line=f_r.readline()\n",
    "        #print(row)\n",
    "'''"
   ]
  },
  {
   "cell_type": "code",
   "execution_count": 72,
   "id": "d57f280e",
   "metadata": {},
   "outputs": [
    {
     "name": "stdout",
     "output_type": "stream",
     "text": [
      "     code  res1  year  logKa           Ka  target  \\\n",
      "0    4jsz  1.90  2013   2.30    Ki=5000uM      38   \n",
      "1    3ozt  1.48  2011   4.13    Ki=74.9uM      51   \n",
      "2    2xys  1.91  2011   7.42      Ki=38nM      50   \n",
      "3    3jya  2.10  2009   6.89  Ki=0.1301uM       6   \n",
      "4    1mq6  2.10  2003  11.15       Ki=7pM      45   \n",
      "..    ...   ...   ...    ...          ...     ...   \n",
      "280  2xj7  2.00  2010   6.66     Ki=220nM      13   \n",
      "281  3fcq  1.75  2009   2.77     Ki=1.7mM      27   \n",
      "282  4gid  2.00  2012  10.77   Ki=0.017nM      19   \n",
      "283  1bzc  2.35  1999   4.92      Ki=12uM      25   \n",
      "284  3dxg  1.39  2009   2.40     Ki=4.0mM      57   \n",
      "\n",
      "                                              sequence  \n",
      "0    HWGYGKHNGPEHWHKDFPIAKGERQSPVDIDTHTAKYDPSLKPLSV...  \n",
      "1    DTKEQRILRYVQQNAKPGDPQSVLEAIDTYCTQKEWAMNVGDAKGQ...  \n",
      "2    QANLMRLKSDLFNRSPMYPGPTKDDPLTVTLGFTLQDIVKVDSSTN...  \n",
      "3    PLESQYQVGPLLGSGGFGSVYSGIRVSDNLPVAIKHVEKDRISDWG...  \n",
      "4    IVGGQECKDGECPWQALLINEENEGFCGGTILSEFYILTAAHCLYQ...  \n",
      "..                                                 ...  \n",
      "280  SLQPPPQQLIVQNKTIDLPAVYQLNGGEEANPHAVKVLKELLSGKQ...  \n",
      "281  ITGTSTVGVGRGVLGDQKNINTTYSTYYYLQDNTRGDGIFTYDAKY...  \n",
      "282  FVEMVDNLRGKSGQGYYVEMTVGSPPQTLNILVDTGSSNFAVGAAP...  \n",
      "283  EMEKEFEQIDKSGSWAAIYQDIRHEASDFPCRVAKLPKNKNRNRYR...  \n",
      "284  KETAAAKFERQHMDSSTSAASSSNYCNQMMKSRNLTKDRCKPVNTF...  \n",
      "\n",
      "[285 rows x 7 columns]\n"
     ]
    }
   ],
   "source": [
    "interaction_file='dataset/affinity/interaction.csv'\n",
    "\n",
    "df=pd.read_csv(interaction_file,sep=',')\n",
    "print(df)"
   ]
  },
  {
   "cell_type": "code",
   "execution_count": 73,
   "id": "ed462c2d",
   "metadata": {},
   "outputs": [
    {
     "name": "stdout",
     "output_type": "stream",
     "text": [
      "     code  res1  year  logKa           Ka  target  \\\n",
      "0    4jsz  1.90  2013   2.30    Ki=5000uM      38   \n",
      "1    3ozt  1.48  2011   4.13    Ki=74.9uM      51   \n",
      "2    2xys  1.91  2011   7.42      Ki=38nM      50   \n",
      "3    3jya  2.10  2009   6.89  Ki=0.1301uM       6   \n",
      "4    1mq6  2.10  2003  11.15       Ki=7pM      45   \n",
      "..    ...   ...   ...    ...          ...     ...   \n",
      "280  2xj7  2.00  2010   6.66     Ki=220nM      13   \n",
      "281  3fcq  1.75  2009   2.77     Ki=1.7mM      27   \n",
      "282  4gid  2.00  2012  10.77   Ki=0.017nM      19   \n",
      "283  1bzc  2.35  1999   4.92      Ki=12uM      25   \n",
      "284  3dxg  1.39  2009   2.40     Ki=4.0mM      57   \n",
      "\n",
      "                                              sequence  \n",
      "0    HWGYGKHNGPEHWHKDFPIAKGERQSPVDIDTHTAKYDPSLKPLSV...  \n",
      "1    DTKEQRILRYVQQNAKPGDPQSVLEAIDTYCTQKEWAMNVGDAKGQ...  \n",
      "2    QANLMRLKSDLFNRSPMYPGPTKDDPLTVTLGFTLQDIVKVDSSTN...  \n",
      "3    PLESQYQVGPLLGSGGFGSVYSGIRVSDNLPVAIKHVEKDRISDWG...  \n",
      "4    IVGGQECKDGECPWQALLINEENEGFCGGTILSEFYILTAAHCLYQ...  \n",
      "..                                                 ...  \n",
      "280  SLQPPPQQLIVQNKTIDLPAVYQLNGGEEANPHAVKVLKELLSGKQ...  \n",
      "281  ITGTSTVGVGRGVLGDQKNINTTYSTYYYLQDNTRGDGIFTYDAKY...  \n",
      "282  FVEMVDNLRGKSGQGYYVEMTVGSPPQTLNILVDTGSSNFAVGAAP...  \n",
      "283  EMEKEFEQIDKSGSWAAIYQDIRHEASDFPCRVAKLPKNKNRNRYR...  \n",
      "284  KETAAAKFERQHMDSSTSAASSSNYCNQMMKSRNLTKDRCKPVNTF...  \n",
      "\n",
      "[285 rows x 7 columns]\n"
     ]
    }
   ],
   "source": [
    "interaction_file='dataset/affinity/interaction.csv'\n",
    "\n",
    "df=pd.read_csv(interaction_file,sep=',')\n",
    "print(df)"
   ]
  },
  {
   "cell_type": "code",
   "execution_count": 19,
   "id": "8a53ec7e",
   "metadata": {},
   "outputs": [
    {
     "data": {
      "text/plain": [
       "\"\\n\\n#合并interaction and molecular \\nimport pandas as pd \\nimport os\\nimport csv\\ninteraction_file='dataset/affinity/interaction.csv'\\n\\ndf=pd.read_csv(interaction_file,sep=',')\\nprint(df)\\n\\ncode_list=df.iloc[:,0].tolist()\\n\\nmolecular_file='molecular_smiles.csv'\\n\\ninteraction_file='dataset/affinity/interactions.csv'#a new file\\n\\n\\n\\n\\ncolumns=['code','res1','year','logKa','Ka','target','sequence','smiles']\\n#df.columns=columns\\nwith open(interaction_file,'w+') as f_w:\\n    interaction_writer=csv.writer(f_w)\\n    interaction_writer.writerow(columns)\\n    with open(molecular_file,'r+') as f_r:\\n        molecular_reader=csv.reader(f_r)\\n        #head=molecular_reader.#read the header\\n        header=next(molecular_reader)\\n        print(header)\\n        \\n        lines=next(molecular_reader)#the fisrt dataline\\n        print(lines)\\n        while lines:\\n            #molecular_code=lines[0]\\n            for i,molecuar_code in enumerate(code_list):\\n                if lines[0]==molecuar_code:\\n                    data=df.iloc[i,:].tolist()\\n                    data.append(lines[1])\\n                    interaction_writer.writerow(data)\\n                    break\\n            lines=next(molecular_reader)\\n            \\n\""
      ]
     },
     "execution_count": 19,
     "metadata": {},
     "output_type": "execute_result"
    }
   ],
   "source": [
    "'''\n",
    "\n",
    "#合并interaction and molecular \n",
    "import pandas as pd \n",
    "import os\n",
    "import csv\n",
    "interaction_file='dataset/affinity/interaction.csv'\n",
    "\n",
    "df=pd.read_csv(interaction_file,sep=',')\n",
    "print(df)\n",
    "\n",
    "code_list=df.iloc[:,0].tolist()\n",
    "\n",
    "molecular_file='molecular_smiles.csv'\n",
    "\n",
    "interaction_file='dataset/affinity/interactions.csv'#a new file\n",
    "\n",
    "\n",
    "\n",
    "\n",
    "columns=['code','res1','year','logKa','Ka','target','sequence','smiles']\n",
    "#df.columns=columns\n",
    "with open(interaction_file,'w+') as f_w:\n",
    "    interaction_writer=csv.writer(f_w)\n",
    "    interaction_writer.writerow(columns)\n",
    "    with open(molecular_file,'r+') as f_r:\n",
    "        molecular_reader=csv.reader(f_r)\n",
    "        #head=molecular_reader.#read the header\n",
    "        header=next(molecular_reader)\n",
    "        print(header)\n",
    "        \n",
    "        lines=next(molecular_reader)#the fisrt dataline\n",
    "        print(lines)\n",
    "        while lines:\n",
    "            #molecular_code=lines[0]\n",
    "            for i,molecuar_code in enumerate(code_list):\n",
    "                if lines[0]==molecuar_code:\n",
    "                    data=df.iloc[i,:].tolist()\n",
    "                    data.append(lines[1])\n",
    "                    interaction_writer.writerow(data)\n",
    "                    break\n",
    "            lines=next(molecular_reader)\n",
    "            \n",
    "'''"
   ]
  },
  {
   "cell_type": "code",
   "execution_count": 74,
   "id": "ff4f6fb3",
   "metadata": {},
   "outputs": [],
   "source": [
    "#合并interaction and molecular \n",
    "import pandas as pd \n",
    "import os\n",
    "import csv\n",
    "interaction_file='dataset/affinity/interaction.csv'\n",
    "\n",
    "df=pd.read_csv(interaction_file,sep=',')\n",
    "#print(df)\n",
    "\n",
    "code_list=df.iloc[:,0].tolist()\n",
    "\n",
    "molecular_file='molecular_smiles.csv'\n",
    "\n",
    "interaction_file='dataset/affinity/interactions.csv'#a new file\n",
    "\n",
    "\n",
    "\n",
    "\n",
    "columns=['code','res1','year','logKa','Ka','target','sequence','smiles']\n",
    "#df.columns=columns\n",
    "with open(interaction_file,'w+') as f_w:\n",
    "    interaction_writer=csv.writer(f_w)\n",
    "    interaction_writer.writerow(columns)\n",
    "    with open(molecular_file,'r+') as f_r:\n",
    "        molecular_reader=csv.reader(f_r)\n",
    "        for i, lines in enumerate(molecular_reader):\n",
    "            if i>0:\n",
    "                #molecular_code=lines[0]\n",
    "                for i,molecular_code in enumerate(code_list):\n",
    "                    if lines[0]==molecular_code:\n",
    "                        data=df.iloc[i,:].tolist()\n",
    "                        data.append(lines[1])\n",
    "                        interaction_writer.writerow(data)\n",
    "                        break\n",
    "        "
   ]
  },
  {
   "cell_type": "code",
   "execution_count": 75,
   "id": "536d3851",
   "metadata": {},
   "outputs": [
    {
     "name": "stdout",
     "output_type": "stream",
     "text": [
      "     code  res1  year  logKa          Ka  target  \\\n",
      "0    3zdg  2.48  2013   7.10     Ki=79nM       8   \n",
      "1    1nc1  2.00  2003   6.12   Ki=0.75uM      46   \n",
      "2    4w9l  2.20  2014   5.02   Kd=9.52uM      54   \n",
      "3    4e6q  1.95  2012   8.36    Ki=4.4nM      31   \n",
      "4    3fcq  1.75  2009   2.77    Ki=1.7mM      27   \n",
      "..    ...   ...   ...    ...         ...     ...   \n",
      "280  4ddk  1.75  2013   2.29   Kd=5.13mM      28   \n",
      "281  4u4s  1.90  2014   2.92   Kd=1200uM      41   \n",
      "282  1w4o  1.60  2005   5.22      Ki=6uM      57   \n",
      "283  4m0z  2.00  2014   5.19    Kd=6.4uM       3   \n",
      "284  2qbq  2.10  2008   7.44  Ki=0.036uM      25   \n",
      "\n",
      "                                              sequence  \\\n",
      "0    LDRADILYNIRQTSRPDVIPTQRDRPVAVSVSLKFINILEVNEITN...   \n",
      "1    FSMKIGIIGAMEEEVTLLRDKIENRQTISLGGCEIYTGQLNGTEVA...   \n",
      "2    MDVFLMIRRHKTTIFTDAKESSTVFELKRIVEGILKRPPDEQRLYK...   \n",
      "3    AFEDRDPTQFEERHLKFLRQLGKGNFGSVEMCRYDPLQDNTGEVVA...   \n",
      "4    ITGTSTVGVGRGVLGDQKNINTTYSTYYYLQDNTRGDGIFTYDAKY...   \n",
      "..                                                 ...   \n",
      "280  IPAFHPGELNVYSAPGDVADVSRALRLTGRRVMLVPTMGALHEGHL...   \n",
      "281  KTVVVTTILESPYVMMKKNHEMLEGNERYEGYCVDLAAEIAKHCGF...   \n",
      "282  KETAAAKFERQHMDSSTSAASSSNYCNQMMKSRNLTKDRCKPVNTF...   \n",
      "283  KWVIDPSELTFVQEIGSGQFGLVHLGYWLNKDKVAIKTIREGAMSE...   \n",
      "284  EMEKEFEQIDKSGSWAAIYQDIRHEASDFPCRVAKLPKNKNRNRYR...   \n",
      "\n",
      "                                                smiles  \n",
      "0                            CN(C(=O)OCCC(C)[N+](C)C)C  \n",
      "1                    OC1C(OC(CSC)C1O)N1C=Cc2c(ncnc21)N  \n",
      "2    OC1CN(C(=O)C(NC(=O)C(NC(=O)C)C(C)(C)C)C(C)(C)C...  \n",
      "3         C1=Nc2cnc3c(C=CN3)c2N1C1CC[N+](Cc2ccccc2)CC1  \n",
      "4                     c1cc(c(OC(=O)C)c(c1)C)[C-](=O)=O  \n",
      "..                                                 ...  \n",
      "280                          c1cc(cc2OCOc12)[C-](=O)=O  \n",
      "281                         c1ncc2c(c1)N(CNS2(=O)=O)CC  \n",
      "282        OCC1OC(N2C(=O)NC(=O)C=C2)C(O)C1OP(=O)(=O)=O  \n",
      "283       C1=C(C(=NN1c1cccc2ccc(OC)cc12)C(=O)N)NC(=O)N  \n",
      "284  c1cc(C2SC(=C(OC[C-](=O)=O)C=2Br)[C-](=O)=O)cc(...  \n",
      "\n",
      "[285 rows x 8 columns]\n"
     ]
    }
   ],
   "source": [
    "interaction_file='dataset/affinity/interactions.csv'\n",
    "\n",
    "df=pd.read_csv(interaction_file,sep=',')\n",
    "print(df)"
   ]
  },
  {
   "cell_type": "code",
   "execution_count": 76,
   "id": "6537e9e7",
   "metadata": {},
   "outputs": [
    {
     "name": "stdout",
     "output_type": "stream",
     "text": [
      "0                              CN(C(=O)OCCC(C)[N+](C)C)C\n",
      "1                      OC1C(OC(CSC)C1O)N1C=Cc2c(ncnc21)N\n",
      "2      OC1CN(C(=O)C(NC(=O)C(NC(=O)C)C(C)(C)C)C(C)(C)C...\n",
      "3           C1=Nc2cnc3c(C=CN3)c2N1C1CC[N+](Cc2ccccc2)CC1\n",
      "4                       c1cc(c(OC(=O)C)c(c1)C)[C-](=O)=O\n",
      "                             ...                        \n",
      "280                            c1cc(cc2OCOc12)[C-](=O)=O\n",
      "281                           c1ncc2c(c1)N(CNS2(=O)=O)CC\n",
      "282          OCC1OC(N2C(=O)NC(=O)C=C2)C(O)C1OP(=O)(=O)=O\n",
      "283         C1=C(C(=NN1c1cccc2ccc(OC)cc12)C(=O)N)NC(=O)N\n",
      "284    c1cc(C2SC(=C(OC[C-](=O)=O)C=2Br)[C-](=O)=O)cc(...\n",
      "Name: smiles, Length: 285, dtype: object\n"
     ]
    }
   ],
   "source": [
    "#test whether the interactions.csv is right\n",
    "import pandas as pd \n",
    "interaction_file='dataset/affinity/interactions.csv'\n",
    "df=pd.read_csv(interaction_file,sep=',')\n",
    "#print(df)\n",
    "print(df['smiles'])\n",
    "############perfect"
   ]
  },
  {
   "cell_type": "code",
   "execution_count": null,
   "id": "c029b156",
   "metadata": {},
   "outputs": [],
   "source": []
  }
 ],
 "metadata": {
  "kernelspec": {
   "display_name": "Python 3 (ipykernel)",
   "language": "python",
   "name": "python3"
  },
  "language_info": {
   "codemirror_mode": {
    "name": "ipython",
    "version": 3
   },
   "file_extension": ".py",
   "mimetype": "text/x-python",
   "name": "python",
   "nbconvert_exporter": "python",
   "pygments_lexer": "ipython3",
   "version": "3.8.10"
  },
  "widgets": {
   "application/vnd.jupyter.widget-state+json": {
    "state": {},
    "version_major": 2,
    "version_minor": 0
   }
  }
 },
 "nbformat": 4,
 "nbformat_minor": 5
}
