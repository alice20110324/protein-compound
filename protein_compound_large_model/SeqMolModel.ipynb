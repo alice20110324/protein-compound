{
 "cells": [
  {
   "cell_type": "code",
   "execution_count": 1,
   "id": "9da84279",
   "metadata": {},
   "outputs": [],
   "source": [
    "import torch\n",
    "import torch\n",
    "from torchvision.models import resnet18\n",
    "\n",
    "import matplotlib\n",
    "matplotlib.use('Agg')\n",
    "import matplotlib.pyplot as plt\n",
    "import argparse\n",
    "\n",
    "from loader import MoleculeDataset#################\n",
    "#from torch_geometric.data import DataLoader\n",
    "from torch_geometric.loader import DataLoader\n",
    "\n",
    "import torch\n",
    "import torch.nn as nn\n",
    "import torch.nn.functional as F\n",
    "import torch.optim as optim\n",
    "\n",
    "from tqdm import tqdm\n",
    "import numpy as np\n",
    "\n",
    "from model import GNN, GNN_graphpred,GNN_graphpred_1\n",
    "from sklearn.metrics import roc_auc_score\n",
    "\n",
    "from splitters import scaffold_split\n",
    "import pandas as pd\n",
    "import os\n",
    "import shutil\n",
    "from tensorboardX import SummaryWriter"
   ]
  },
  {
   "cell_type": "code",
   "execution_count": 3,
   "id": "87a7da75",
   "metadata": {},
   "outputs": [],
   "source": [
    "class InteractionModel(torch.nn.Module):\n",
    "    def __init__(self, protein_model,molecular_model,mol_emb_dim,pro_emb_dim, aggr = \"add\"):\n",
    "        super( InteractionModel, self ).__init__() \n",
    "        \n",
    "        self.batch_converter=protein_model.alphabet.get_batch_converter()\n",
    "        \n",
    "        #self.molecular.node_representation=molecular.model.gnn()\n",
    "        #self.molecular.model,self.molecular.node_representation,self.molecular.features = GNN_graphpred_1(args.num_layer, args.emb_dim, num_tasks, JK = args.JK, drop_ratio = args.dropout_ratio, graph_pooling = args.graph_pooling, gnn_type = args.gnn_type)\n",
    "        self.protein_sequence_representations = []\n",
    "        self.pred_linear = torch.nn.Linear(pro_emb_dim+mol_emb_dim, num_tasks)\n",
    "        \n",
    "        def forward(self, protein_data,*molecular_data):\n",
    "            ############protein\n",
    "            batch_labels, batch_strs, batch_tokens = self.batch_converter(protein_data)\n",
    "            batch_lens = (batch_tokens != alphabet.padding_idx).sum(1)\n",
    "            with torch.no_grad():\n",
    "                results = protein_model(batch_tokens, repr_layers=[33], return_contacts=True)\n",
    "        \n",
    "            protein_token_representations = results[\"representations\"][33]\n",
    "            \n",
    "            for i, tokens_len in enumerate(batch_lens):\n",
    "                self.protein_sequence_representations.append(token_representations[i, 1 : tokens_len - 1].mean(0))\n",
    "            \n",
    "            \n",
    "            ################molecular\n",
    "            \n",
    "            #set up optimizer\n",
    "            #different learning rate for different part of GNN\n",
    "            molecular_node_representation=molecular_model.gnn(molecular_data.x,molecular_data.edge_index,molecular_data.edge_attr)\n",
    "            molecular_representation=molecular_model.pool(molecular.node_representation,molecular_data[3])\n",
    "            #molecular_representation=self.molecular.features(*molecular_data)\n",
    "            \n",
    "            \n",
    "            \n",
    "            all_features=torch.concat([self.protein_sequence_representations,molecular_representation],axis=1)\n",
    "            self.pred_linear(all_features)"
   ]
  },
  {
   "cell_type": "code",
   "execution_count": null,
   "id": "f0474fe6",
   "metadata": {},
   "outputs": [],
   "source": []
  }
 ],
 "metadata": {
  "kernelspec": {
   "display_name": "Python 3 (ipykernel)",
   "language": "python",
   "name": "python3"
  },
  "language_info": {
   "codemirror_mode": {
    "name": "ipython",
    "version": 3
   },
   "file_extension": ".py",
   "mimetype": "text/x-python",
   "name": "python",
   "nbconvert_exporter": "python",
   "pygments_lexer": "ipython3",
   "version": "3.8.10"
  },
  "widgets": {
   "application/vnd.jupyter.widget-state+json": {
    "state": {},
    "version_major": 2,
    "version_minor": 0
   }
  }
 },
 "nbformat": 4,
 "nbformat_minor": 5
}
