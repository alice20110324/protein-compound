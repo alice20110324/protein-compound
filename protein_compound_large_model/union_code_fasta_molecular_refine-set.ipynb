{
 "cells": [
  {
   "cell_type": "code",
   "execution_count": 1,
   "id": "10dae1af-6fca-481b-8aed-95120a791c7b",
   "metadata": {},
   "outputs": [],
   "source": [
    "import pandas as pd \n",
    "import os\n",
    "import csv\n",
    "from Bio import PDB"
   ]
  },
  {
   "cell_type": "code",
   "execution_count": 2,
   "id": "744b84c5-c179-4c85-a230-c75705cb8361",
   "metadata": {},
   "outputs": [],
   "source": [
    "pathes='dataset/affinity/refined-set/'\n",
    "\n",
    "dirs=[]\n",
    "for root, dirs, files in os.walk(pathes):\n",
    "    #print(dirs)\n",
    "    #dirs.append(dirs)\n",
    "    dirs=dirs\n",
    "    break\n",
    "#print(dirs)"
   ]
  },
  {
   "cell_type": "code",
   "execution_count": null,
   "id": "23066931-2624-420b-8735-36164d98fcf7",
   "metadata": {},
   "outputs": [],
   "source": []
  },
  {
   "cell_type": "code",
   "execution_count": null,
   "id": "33033e8e-b36c-47f1-a115-30218c60db12",
   "metadata": {},
   "outputs": [],
   "source": []
  },
  {
   "cell_type": "code",
   "execution_count": 34,
   "id": "64a426d9-47b4-452b-9451-655b1204c345",
   "metadata": {},
   "outputs": [],
   "source": [
    "#蛋白质从pdb文件中提取序列生成fasta文件\n",
    "#save as file namedd protein_sequences.fasta\n",
    "#but the format is not right\n",
    "#找到fasta文件\n",
    "parser = PDB.PDBParser(QUIET=True)\n",
    "ppb = PDB.PPBuilder()\n",
    "save_fastas='dataset/affinity/refined-set/protein_sequences.fasta'\n",
    "num=0\n",
    "with open(save_fastas,'w+') as f_w:\n",
    "    for i in dirs:\n",
    "        num=num+1\n",
    "        #print('i in dirs:', i)\n",
    "        subpath=os.path.join(pathes,i)\n",
    "        #print(subpath)\n",
    "        dirfiles=os.listdir(subpath)\n",
    "        for  j in dirfiles:\n",
    "            \n",
    "            \n",
    "            #print(j)\n",
    "            if '_protein.pdb' in j:\n",
    "                subfile=os.path.join(subpath,j)\n",
    "                pdb_id=j[:4]\n",
    "                f_w.write(pdb_id)\n",
    "                f_w.write('\\n')\n",
    "                structure = parser.get_structure(pdb_id, subfile)  # 替换为您的PDB文件的路径\n",
    "\n",
    "\n",
    "                for pp in ppb.build_peptides(structure):\n",
    "                    m=pp.get_sequence()\n",
    "                    #print(pp.get_sequence())\n",
    "                    f_w.write(str(m))\n",
    "                    f_w.write('\\n')\n",
    "                    break\n",
    "                   \n",
    "                \n",
    " "
   ]
  },
  {
   "cell_type": "code",
   "execution_count": 3,
   "id": "57a46f4a-af4c-4a34-b59d-a6273af76637",
   "metadata": {},
   "outputs": [
    {
     "ename": "NameError",
     "evalue": "name 'save_fastas' is not defined",
     "output_type": "error",
     "traceback": [
      "\u001b[0;31m---------------------------------------------------------------------------\u001b[0m",
      "\u001b[0;31mNameError\u001b[0m                                 Traceback (most recent call last)",
      "Cell \u001b[0;32mIn [3], line 1\u001b[0m\n\u001b[0;32m----> 1\u001b[0m \u001b[38;5;28;01mwith\u001b[39;00m \u001b[38;5;28mopen\u001b[39m(\u001b[43msave_fastas\u001b[49m,\u001b[38;5;124m'\u001b[39m\u001b[38;5;124mr+\u001b[39m\u001b[38;5;124m'\u001b[39m) \u001b[38;5;28;01mas\u001b[39;00m f_r:\n\u001b[1;32m      2\u001b[0m     s\u001b[38;5;241m=\u001b[39mf_r\u001b[38;5;241m.\u001b[39mreadlines()\n\u001b[1;32m      3\u001b[0m     \u001b[38;5;66;03m#print(s)\u001b[39;00m\n",
      "\u001b[0;31mNameError\u001b[0m: name 'save_fastas' is not defined"
     ]
    }
   ],
   "source": [
    "with open(save_fastas,'r+') as f_r:\n",
    "    s=f_r.readlines()\n",
    "    #print(s)"
   ]
  },
  {
   "cell_type": "code",
   "execution_count": 23,
   "id": "b64d8a00-c7ca-4f8e-bfa3-9722458725a8",
   "metadata": {},
   "outputs": [
    {
     "name": "stdout",
     "output_type": "stream",
     "text": [
      "PYTVVYFPVRGRCAALRMLLADQGQSWKEEVVTVETWQEGSLKASCLYGQLPKFQDGDLTLYQSNTILRHLGRTLGLYGKDQQEAALVDMVNDGVEDLRCKYISLIYTNYEAGKDDYVKALPGQLKPFETLLSQNQGGKTFIVGDQISFADYNLLDLLLIHEVLAPGCLDAFPLLSAYVGRLSARPKLKAFLASPEYVNLPINGNGKQ\n",
      "PYTVVYFPVRGRCAALRMLLADQGQSWKEEVVTVETWQEGSLKASCLYGQLPKFQDGDLTLYQSNTILRHLGRTLGLYGKDQQEAALVDMVNDGVEDLRCKYISLIYTNYEAGKDDYVKALPGQLKPFETLLSQNQGGKTFIVGDQISFADYNLLDLLLIHEVLAPGCLDAFPLLSAYVGRLSARPKLKAFLASPEYVNLPINGNGKQ\n"
     ]
    }
   ],
   "source": [
    "from Bio import PDB\n",
    "# Using C-N\n",
    "\n",
    "# 创建PDB解析器\n",
    "parser = PDB.PDBParser(QUIET=True)\n",
    "\n",
    "# 读取PDB文件\n",
    "pdb_id = \"10gs_protein\"  # 替换为您的PDB文件ID\n",
    "filename = \"dataset/affinity/refined-set/10gs/10gs_protein.pdb\"\n",
    "structure = parser.get_structure(pdb_id, filename)  # 替换为您的PDB文件的路径\n",
    "\n",
    "ppb = PDB.PPBuilder()\n",
    "for pp in ppb.build_peptides(structure):\n",
    "    print(pp.get_sequence())"
   ]
  },
  {
   "cell_type": "code",
   "execution_count": null,
   "id": "d3148042-a8c7-4b92-bb2f-fbc8a24f7bf7",
   "metadata": {},
   "outputs": [],
   "source": []
  },
  {
   "cell_type": "code",
   "execution_count": null,
   "id": "32d90eb2-a6a9-4cb3-a66c-d203f86b671e",
   "metadata": {},
   "outputs": [],
   "source": []
  }
 ],
 "metadata": {
  "kernelspec": {
   "display_name": "Python 3 (ipykernel)",
   "language": "python",
   "name": "python3"
  },
  "language_info": {
   "codemirror_mode": {
    "name": "ipython",
    "version": 3
   },
   "file_extension": ".py",
   "mimetype": "text/x-python",
   "name": "python",
   "nbconvert_exporter": "python",
   "pygments_lexer": "ipython3",
   "version": "3.8.10"
  },
  "widgets": {
   "application/vnd.jupyter.widget-state+json": {
    "state": {},
    "version_major": 2,
    "version_minor": 0
   }
  }
 },
 "nbformat": 4,
 "nbformat_minor": 5
}
