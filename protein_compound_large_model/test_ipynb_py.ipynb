{
 "cells": [
  {
   "cell_type": "code",
   "execution_count": null,
   "id": "523f3525",
   "metadata": {},
   "outputs": [],
   "source": [
    "\n",
    "\n",
    "\n",
    "\n",
    "\n",
    "\n",
    "\n",
    "\n",
    "\n",
    "def get_gasteiger_partial_charges(mol, n_iter=12):\n",
    "    \"\"\"\n",
    "    Calculates list of gasteiger partial charges for each atom in mol object.\n",
    "    :param mol: rdkit mol object\n",
    "        # data.edge_\n",
    "    :param n_iter: number of iterations. Default 12\n",
    "    :return: list of computed partial charges for each atom.\n",
    "    \"\"\"\n",
    "    Chem.rdPartialCharges.ComputeGasteigerCharges(mol, nIter=n_iter,\n",
    "                                                  throwOnParamFailure=True)\n",
    "    partial_charges = [float(a.GetProp('_GasteigerCharge')) for a in\n",
    "                       mol.GetAtoms()]\n",
    "    return partial_charges\n",
    "\n",
    "def create_standardized_mol_id(smiles):\n",
    "    \"\"\"\n",
    "\n",
    "    :param smiles:\n",
    "    :return: inchi\n",
    "    \"\"\"\n",
    "    if check_smiles_validity(smiles):\n",
    "        # remove stereochemistry\n",
    "        smiles = AllChem.MolToSmiles(AllChem.MolFromSmiles(smiles),\n",
    "                                     isomericSmiles=False)\n",
    "        mol = AllChem.MolFromSmiles(smiles)\n",
    "        if mol != None: # to catch weird issue with O=C1O[al]2oc(=O)c3ccc(cn3)c3ccccc3c3cccc(c3)c3ccccc3c3cc(C(F)(F)F)c(cc3o2)-c2ccccc2-c2cccc(c2)-c2ccccc2-c2cccnc21\n",
    "            if '.' in smiles: # if multiple species, pick largest molecule\n",
    "                mol_species_list = split_rdkit_mol_obj(mol)\n",
    "                largest_mol = get_largest_mol(mol_species_list)\n",
    "                inchi = AllChem.MolToInchi(largest_mol)\n",
    "            else:\n",
    "                inchi = AllChem.MolToInchi(mol)\n",
    "            return inchi\n",
    "        else:\n",
    "            return\n",
    "    else:\n",
    "        return\n"
   ]
  }
 ],
 "metadata": {
  "kernelspec": {
   "display_name": "Python 3 (ipykernel)",
   "language": "python",
   "name": "python3"
  },
  "language_info": {
   "codemirror_mode": {
    "name": "ipython",
    "version": 3
   },
   "file_extension": ".py",
   "mimetype": "text/x-python",
   "name": "python",
   "nbconvert_exporter": "python",
   "pygments_lexer": "ipython3",
   "version": "3.8.10"
  }
 },
 "nbformat": 4,
 "nbformat_minor": 5
}
