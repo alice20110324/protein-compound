{
 "cells": [
  {
   "cell_type": "code",
   "execution_count": 2,
   "id": "f221f43d",
   "metadata": {},
   "outputs": [],
   "source": [
    "from rdkit import Chem\n",
    "import pandas as pd \n",
    "import os\n"
   ]
  },
  {
   "cell_type": "code",
   "execution_count": null,
   "id": "37fc6397",
   "metadata": {},
   "outputs": [],
   "source": [
    "paths='dataset/affinity/CASF-2016/coreset/'\n",
    "dirs=[]\n",
    "for root, dirs, files in os.walk(paths):\n",
    "    ##print(dirs)\n",
    "    dirs=dirs\n",
    "    break\n"
   ]
  },
  {
   "cell_type": "code",
   "execution_count": null,
   "id": "e7b8cb2c",
   "metadata": {},
   "outputs": [],
   "source": [
    "m = Chem.MolFromMolFile('data/input.mol')\n",
    "Chem.MolToSmiles(m)"
   ]
  }
 ],
 "metadata": {
  "kernelspec": {
   "display_name": "Python 3",
   "language": "python",
   "name": "python3"
  },
  "language_info": {
   "codemirror_mode": {
    "name": "ipython",
    "version": 3
   },
   "file_extension": ".py",
   "mimetype": "text/x-python",
   "name": "python",
   "nbconvert_exporter": "python",
   "pygments_lexer": "ipython3",
   "version": "3.6.13"
  }
 },
 "nbformat": 4,
 "nbformat_minor": 5
}
