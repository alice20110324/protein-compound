{
 "cells": [
  {
   "cell_type": "code",
   "execution_count": 6,
   "id": "0de054cd-368e-4e7e-96a2-1786116609b3",
   "metadata": {},
   "outputs": [
    {
     "name": "stdout",
     "output_type": "stream",
     "text": [
      "torch.Size([2, 6])\n"
     ]
    }
   ],
   "source": [
    "import torch\n",
    "a = torch.tensor([[1, 2, 3, 4, 5, 11], [6, 7, 8, 9, 0, 22]])\n",
    "print(a.shape)"
   ]
  },
  {
   "cell_type": "code",
   "execution_count": 2,
   "id": "7fc47c3c-3f1f-4fa1-911d-d0e371d1b265",
   "metadata": {},
   "outputs": [
    {
     "name": "stdout",
     "output_type": "stream",
     "text": [
      "tensor([[ 1,  2,  3,  4,  5, 11],\n",
      "        [ 6,  7,  8,  9,  0, 22]])\n"
     ]
    }
   ],
   "source": [
    "print(a)"
   ]
  },
  {
   "cell_type": "code",
   "execution_count": 10,
   "id": "7d965482-d7e3-406d-907b-cc96eb7a5db7",
   "metadata": {},
   "outputs": [
    {
     "name": "stdout",
     "output_type": "stream",
     "text": [
      "tensor([[1, 3, 5],\n",
      "        [6, 8, 0]])\n",
      "tensor([[ 2,  4, 11],\n",
      "        [ 7,  9, 22]])\n",
      "torch.Size([2, 3])\n"
     ]
    }
   ],
   "source": [
    "c=a[:,0::2]\n",
    "d=a[:,1::2]\n",
    "\n",
    "print(a[:, 0::2])\n",
    "print(a[:, 1::2])\n",
    "print(a[:,0::2].shape)"
   ]
  },
  {
   "cell_type": "code",
   "execution_count": 8,
   "id": "ff6043df-5e46-43cf-88e0-f5b802f02d13",
   "metadata": {},
   "outputs": [
    {
     "name": "stdout",
     "output_type": "stream",
     "text": [
      "tensor([[[ 1,  3,  5],\n",
      "         [ 6,  8,  0]],\n",
      "\n",
      "        [[ 2,  4, 11],\n",
      "         [ 7,  9, 22]]])\n",
      "torch.Size([2, 2, 3])\n"
     ]
    }
   ],
   "source": [
    "b=torch.stack([a[:, 0::2], a[:, 1::2]], dim=0)\n",
    "print(b)\n",
    "print(b.shape)"
   ]
  },
  {
   "cell_type": "code",
   "execution_count": 11,
   "id": "06ee9dc7-20d2-4aec-9625-bb5c076f9e39",
   "metadata": {},
   "outputs": [
    {
     "name": "stdout",
     "output_type": "stream",
     "text": [
      "tensor([[ 1,  3,  5],\n",
      "        [ 6,  8,  0],\n",
      "        [ 2,  4, 11],\n",
      "        [ 7,  9, 22]])\n",
      "torch.Size([4, 3])\n"
     ]
    }
   ],
   "source": [
    "e=torch.concat([c,d],dim=0)\n",
    "print(e)\n",
    "print(e.shape)"
   ]
  },
  {
   "cell_type": "code",
   "execution_count": null,
   "id": "5a80dd4f-45cb-4091-9b28-75c57cdba620",
   "metadata": {},
   "outputs": [],
   "source": []
  }
 ],
 "metadata": {
  "kernelspec": {
   "display_name": "Python 3 (ipykernel)",
   "language": "python",
   "name": "python3"
  },
  "language_info": {
   "codemirror_mode": {
    "name": "ipython",
    "version": 3
   },
   "file_extension": ".py",
   "mimetype": "text/x-python",
   "name": "python",
   "nbconvert_exporter": "python",
   "pygments_lexer": "ipython3",
   "version": "3.8.10"
  },
  "widgets": {
   "application/vnd.jupyter.widget-state+json": {
    "state": {},
    "version_major": 2,
    "version_minor": 0
   }
  }
 },
 "nbformat": 4,
 "nbformat_minor": 5
}
