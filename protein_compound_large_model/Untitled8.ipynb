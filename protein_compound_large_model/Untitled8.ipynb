{
 "cells": [
  {
   "cell_type": "code",
   "execution_count": 25,
   "id": "f68a434d-1e67-4391-83e6-8ad75d5c8a6d",
   "metadata": {},
   "outputs": [
    {
     "name": "stdout",
     "output_type": "stream",
     "text": [
      "None\n",
      "[<Model id=0>]\n",
      "('10gs', 0, 'A')\n"
     ]
    },
    {
     "name": "stderr",
     "output_type": "stream",
     "text": [
      "/public/home/zhengfang/.local/lib/python3.8/site-packages/Bio/PDB/PDBParser.py:395: PDBConstructionWarning: Ignoring unrecognized record 'TER' at line 3299\n",
      "  warnings.warn(\n",
      "/public/home/zhengfang/.local/lib/python3.8/site-packages/Bio/PDB/PDBParser.py:395: PDBConstructionWarning: Ignoring unrecognized record 'TER' at line 6563\n",
      "  warnings.warn(\n",
      "/public/home/zhengfang/.local/lib/python3.8/site-packages/Bio/PDB/PDBParser.py:395: PDBConstructionWarning: Ignoring unrecognized record 'END' at line 6733\n",
      "  warnings.warn(\n"
     ]
    }
   ],
   "source": [
    "#-*-coding:utf-8-*-\n",
    "\n",
    "from Bio.PDB.PDBParser import PDBParser\n",
    "\n",
    "parser = PDBParser(PERMISSIVE=1)\n",
    "\n",
    "structure_id = \"10gs\"\n",
    "filename = \"dataset/affinity/refined-set/10gs/10gs_protein.pdb\"\n",
    "\n",
    "structure = parser.get_structure(structure_id, filename)\n",
    "\n",
    "#获取头部信息\n",
    "print(structure.header[\"resolution\"])\n",
    "#print(structure.header[\"keywords\"])\n",
    "\n",
    "print(structure.get_list())\n",
    "\n",
    "\n",
    "\n",
    "model = structure[0]\n",
    "chain = model['A']\n",
    "#print(chain.get_list())\n",
    "\n",
    "#chain = model['A']\n",
    "#print(chain.get_list())\n",
    "\n",
    "print(chain.get_full_id())"
   ]
  },
  {
   "cell_type": "code",
   "execution_count": 26,
   "id": "1e686ce6-c0e2-4e34-8690-ec74ebad7a31",
   "metadata": {},
   "outputs": [
    {
     "data": {
      "text/plain": [
       "'A'"
      ]
     },
     "execution_count": 26,
     "metadata": {},
     "output_type": "execute_result"
    }
   ],
   "source": [
    "chain.get_id()"
   ]
  },
  {
   "cell_type": "code",
   "execution_count": 27,
   "id": "ade16c5a-e9fa-4cd0-a1ae-2b2129ee4abb",
   "metadata": {},
   "outputs": [
    {
     "ename": "NameError",
     "evalue": "name 'name' is not defined",
     "output_type": "error",
     "traceback": [
      "\u001b[0;31m---------------------------------------------------------------------------\u001b[0m",
      "\u001b[0;31mNameError\u001b[0m                                 Traceback (most recent call last)",
      "Cell \u001b[0;32mIn [27], line 4\u001b[0m\n\u001b[1;32m      2\u001b[0m residue\u001b[38;5;241m.\u001b[39mis_disordered()     \u001b[38;5;66;03m# returns 1 if the residue has disordered atoms\u001b[39;00m\n\u001b[1;32m      3\u001b[0m residue\u001b[38;5;241m.\u001b[39mget_segid()         \u001b[38;5;66;03m# returns the SEGID, e.g. \"CHN1\"\u001b[39;00m\n\u001b[0;32m----> 4\u001b[0m residue\u001b[38;5;241m.\u001b[39mhas_id(\u001b[43mname\u001b[49m)   \n",
      "\u001b[0;31mNameError\u001b[0m: name 'name' is not defined"
     ]
    }
   ],
   "source": [
    "residue.get_resname()       # returns the residue name, e.g. \"ASN\"\n",
    "residue.is_disordered()     # returns 1 if the residue has disordered atoms\n",
    "residue.get_segid()         # returns the SEGID, e.g. \"CHN1\"\n",
    "residue.has_id(name)   "
   ]
  },
  {
   "cell_type": "code",
   "execution_count": 16,
   "id": "6da884f0-171c-4919-b3de-e9aed6b890b2",
   "metadata": {},
   "outputs": [
    {
     "ename": "SyntaxError",
     "evalue": "unexpected EOF while parsing (2451536257.py, line 5)",
     "output_type": "error",
     "traceback": [
      "\u001b[0;36m  Cell \u001b[0;32mIn [16], line 5\u001b[0;36m\u001b[0m\n\u001b[0;31m    #print(atom.get_name())\u001b[0m\n\u001b[0m                           ^\u001b[0m\n\u001b[0;31mSyntaxError\u001b[0m\u001b[0;31m:\u001b[0m unexpected EOF while parsing\n"
     ]
    }
   ],
   "source": [
    "for model in structure:\n",
    "    for chain in model:\n",
    "        for residue in chain:\n",
    "            for atom in residue:\n",
    "                #print(atom.get_name())"
   ]
  },
  {
   "cell_type": "code",
   "execution_count": 18,
   "id": "5e7b8a03-ca76-485d-b598-77c1225a5efa",
   "metadata": {},
   "outputs": [
    {
     "ename": "SyntaxError",
     "evalue": "unexpected EOF while parsing (1166620373.py, line 2)",
     "output_type": "error",
     "traceback": [
      "\u001b[0;36m  Cell \u001b[0;32mIn [18], line 2\u001b[0;36m\u001b[0m\n\u001b[0;31m    #print(atom)\u001b[0m\n\u001b[0m                ^\u001b[0m\n\u001b[0;31mSyntaxError\u001b[0m\u001b[0;31m:\u001b[0m unexpected EOF while parsing\n"
     ]
    }
   ],
   "source": [
    "for atom in structure.get_atoms():\n",
    "    #print(atom)"
   ]
  },
  {
   "cell_type": "code",
   "execution_count": 20,
   "id": "a92bea2c-6bb2-4a40-a329-2633139cde17",
   "metadata": {},
   "outputs": [
    {
     "ename": "SyntaxError",
     "evalue": "unexpected EOF while parsing (3396281871.py, line 2)",
     "output_type": "error",
     "traceback": [
      "\u001b[0;36m  Cell \u001b[0;32mIn [20], line 2\u001b[0;36m\u001b[0m\n\u001b[0;31m    #print(residue)\u001b[0m\n\u001b[0m                   ^\u001b[0m\n\u001b[0;31mSyntaxError\u001b[0m\u001b[0;31m:\u001b[0m unexpected EOF while parsing\n"
     ]
    }
   ],
   "source": [
    "for residue in structure.get_residues():\n",
    "    #print(residue)"
   ]
  },
  {
   "cell_type": "code",
   "execution_count": null,
   "id": "3dc34ee7-c61c-4f5d-b7d2-08f364a227a1",
   "metadata": {},
   "outputs": [],
   "source": [
    "for residue in chain.get_list():\n",
    "    residue_id = residue.get_id()\n",
    "    hetfield = residue_id[0]\n",
    "    if hetfield[0] == \"H\":\n",
    "        print(residue_id)"
   ]
  },
  {
   "cell_type": "code",
   "execution_count": 28,
   "id": "0937d4da-26f0-443a-b0ea-e6d2d33ed1ac",
   "metadata": {},
   "outputs": [
    {
     "ename": "AttributeError",
     "evalue": "'Chain' object has no attribute 'get_resname'",
     "output_type": "error",
     "traceback": [
      "\u001b[0;31m---------------------------------------------------------------------------\u001b[0m",
      "\u001b[0;31mAttributeError\u001b[0m                            Traceback (most recent call last)",
      "Cell \u001b[0;32mIn [28], line 15\u001b[0m\n\u001b[1;32m     13\u001b[0m \u001b[38;5;28;01mfor\u001b[39;00m model \u001b[38;5;129;01min\u001b[39;00m structure:\n\u001b[1;32m     14\u001b[0m     \u001b[38;5;28;01mfor\u001b[39;00m chain \u001b[38;5;129;01min\u001b[39;00m model:\n\u001b[0;32m---> 15\u001b[0m         \u001b[38;5;28;01mif\u001b[39;00m \u001b[43mPDB\u001b[49m\u001b[38;5;241;43m.\u001b[39;49m\u001b[43mis_aa\u001b[49m\u001b[43m(\u001b[49m\u001b[43mchain\u001b[49m\u001b[43m)\u001b[49m:\n\u001b[1;32m     16\u001b[0m             \u001b[38;5;28;01mfor\u001b[39;00m residue \u001b[38;5;129;01min\u001b[39;00m chain:\n\u001b[1;32m     17\u001b[0m                 \u001b[38;5;28;01mif\u001b[39;00m PDB\u001b[38;5;241m.\u001b[39mis_aa(residue):\n",
      "File \u001b[0;32m~/.local/lib/python3.8/site-packages/Bio/PDB/Polypeptide.py:190\u001b[0m, in \u001b[0;36mis_aa\u001b[0;34m(residue, standard)\u001b[0m\n\u001b[1;32m    171\u001b[0m \u001b[38;5;124;03m\"\"\"Return True if residue object/string is an amino acid.\u001b[39;00m\n\u001b[1;32m    172\u001b[0m \n\u001b[1;32m    173\u001b[0m \u001b[38;5;124;03m:param residue: a L{Residue} object OR a three letter amino acid code\u001b[39;00m\n\u001b[0;32m   (...)\u001b[0m\n\u001b[1;32m    187\u001b[0m \u001b[38;5;124;03mFalse\u001b[39;00m\n\u001b[1;32m    188\u001b[0m \u001b[38;5;124;03m\"\"\"\u001b[39;00m\n\u001b[1;32m    189\u001b[0m \u001b[38;5;28;01mif\u001b[39;00m \u001b[38;5;129;01mnot\u001b[39;00m \u001b[38;5;28misinstance\u001b[39m(residue, \u001b[38;5;28mstr\u001b[39m):\n\u001b[0;32m--> 190\u001b[0m     residue \u001b[38;5;241m=\u001b[39m \u001b[38;5;124mf\u001b[39m\u001b[38;5;124m\"\u001b[39m\u001b[38;5;132;01m{\u001b[39;00mresidue\u001b[38;5;241m.\u001b[39mget_resname()\u001b[38;5;132;01m:\u001b[39;00m\u001b[38;5;124m<3s\u001b[39m\u001b[38;5;132;01m}\u001b[39;00m\u001b[38;5;124m\"\u001b[39m\n\u001b[1;32m    191\u001b[0m residue \u001b[38;5;241m=\u001b[39m residue\u001b[38;5;241m.\u001b[39mupper()\n\u001b[1;32m    192\u001b[0m \u001b[38;5;28;01mif\u001b[39;00m standard:\n",
      "\u001b[0;31mAttributeError\u001b[0m: 'Chain' object has no attribute 'get_resname'"
     ]
    }
   ],
   "source": [
    "from Bio import PDB\n",
    "\n",
    "# 创建PDB解析器\n",
    "parser = PDB.PDBParser(QUIET=True)\n",
    "\n",
    "# 读取PDB文件\n",
    "pdb_id = \"10gs_protein\"  # 替换为您的PDB文件ID\n",
    "filename = \"dataset/affinity/refined-set/10gs/10gs_protein.pdb\"\n",
    "structure = parser.get_structure(pdb_id, filename)  # 替换为您的PDB文件的路径\n",
    "\n",
    "# 提取蛋白质链的一级序列\n",
    "protein_sequence = \"\"\n",
    "for model in structure:\n",
    "    for chain in model:\n",
    "        if PDB.is_aa(chain):\n",
    "            for residue in chain:\n",
    "                if PDB.is_aa(residue):\n",
    "                    protein_sequence += PDB.Polypeptide.three_to_one(residue.get_resname())\n",
    "\n",
    "print(\"蛋白质一级序列:\")\n",
    "print(protein_sequence)"
   ]
  },
  {
   "cell_type": "code",
   "execution_count": 32,
   "id": "cb32d1eb-d1d1-4e8f-af07-526da5f47151",
   "metadata": {},
   "outputs": [
    {
     "name": "stderr",
     "output_type": "stream",
     "text": [
      "/public/home/zhengfang/.local/lib/python3.8/site-packages/Bio/PDB/Polypeptide.py:144: BiopythonDeprecationWarning: 'three_to_one' will be deprecated in a future release of Biopython in favor of 'Bio.PDB.Polypeptide.protein_letters_3to1'.\n",
      "  warnings.warn(\n"
     ]
    },
    {
     "ename": "KeyError",
     "evalue": "<Atom N>",
     "output_type": "error",
     "traceback": [
      "\u001b[0;31m---------------------------------------------------------------------------\u001b[0m",
      "\u001b[0;31mKeyError\u001b[0m                                  Traceback (most recent call last)",
      "Cell \u001b[0;32mIn [32], line 20\u001b[0m\n\u001b[1;32m     17\u001b[0m         \u001b[38;5;28;01mfor\u001b[39;00m residue \u001b[38;5;129;01min\u001b[39;00m chain:\n\u001b[1;32m     18\u001b[0m             \u001b[38;5;28;01mfor\u001b[39;00m atom \u001b[38;5;129;01min\u001b[39;00m residue:\n\u001b[1;32m     19\u001b[0m                 \u001b[38;5;66;03m#print(atom)\u001b[39;00m\n\u001b[0;32m---> 20\u001b[0m                 protein_sequence \u001b[38;5;241m+\u001b[39m\u001b[38;5;241m=\u001b[39m \u001b[43mPDB\u001b[49m\u001b[38;5;241;43m.\u001b[39;49m\u001b[43mPolypeptide\u001b[49m\u001b[38;5;241;43m.\u001b[39;49m\u001b[43mthree_to_one\u001b[49m\u001b[43m(\u001b[49m\u001b[43matom\u001b[49m\u001b[43m)\u001b[49m\n\u001b[1;32m     21\u001b[0m \u001b[38;5;28mprint\u001b[39m(protein_sequence)\n",
      "File \u001b[0;32m~/.local/lib/python3.8/site-packages/Bio/PDB/Polypeptide.py:149\u001b[0m, in \u001b[0;36mthree_to_one\u001b[0;34m(s)\u001b[0m\n\u001b[1;32m    130\u001b[0m \u001b[38;5;124;03m\"\"\"Three letter code to one letter code.\u001b[39;00m\n\u001b[1;32m    131\u001b[0m \n\u001b[1;32m    132\u001b[0m \u001b[38;5;124;03m>>> three_to_one('ALA')\u001b[39;00m\n\u001b[0;32m   (...)\u001b[0m\n\u001b[1;32m    142\u001b[0m \u001b[38;5;124;03mKeyError: 'MSE'\u001b[39;00m\n\u001b[1;32m    143\u001b[0m \u001b[38;5;124;03m\"\"\"\u001b[39;00m\n\u001b[1;32m    144\u001b[0m warnings\u001b[38;5;241m.\u001b[39mwarn(\n\u001b[1;32m    145\u001b[0m     \u001b[38;5;124m\"\u001b[39m\u001b[38;5;124m'\u001b[39m\u001b[38;5;124mthree_to_one\u001b[39m\u001b[38;5;124m'\u001b[39m\u001b[38;5;124m will be deprecated in a future release of Biopython \u001b[39m\u001b[38;5;124m\"\u001b[39m\n\u001b[1;32m    146\u001b[0m     \u001b[38;5;124m\"\u001b[39m\u001b[38;5;124min favor of \u001b[39m\u001b[38;5;124m'\u001b[39m\u001b[38;5;124mBio.PDB.Polypeptide.protein_letters_3to1\u001b[39m\u001b[38;5;124m'\u001b[39m\u001b[38;5;124m.\u001b[39m\u001b[38;5;124m\"\u001b[39m,\n\u001b[1;32m    147\u001b[0m     BiopythonDeprecationWarning,\n\u001b[1;32m    148\u001b[0m )\n\u001b[0;32m--> 149\u001b[0m i \u001b[38;5;241m=\u001b[39m \u001b[43md3_to_index\u001b[49m\u001b[43m[\u001b[49m\u001b[43ms\u001b[49m\u001b[43m]\u001b[49m\n\u001b[1;32m    150\u001b[0m \u001b[38;5;28;01mreturn\u001b[39;00m dindex_to_1[i]\n",
      "\u001b[0;31mKeyError\u001b[0m: <Atom N>"
     ]
    }
   ],
   "source": [
    "from Bio import PDB\n",
    "\n",
    "# 创建PDB解析器\n",
    "parser = PDB.PDBParser(QUIET=True)\n",
    "\n",
    "# 读取PDB文件\n",
    "pdb_id = \"10gs_protein\"  # 替换为您的PDB文件ID\n",
    "filename = \"dataset/affinity/refined-set/10gs/10gs_protein.pdb\"\n",
    "structure = parser.get_structure(pdb_id, filename)  # 替换为您的PDB文件的路径\n",
    "\n",
    "# 提取蛋白质链的一级序列\n",
    "protein_sequence = \"\"\n",
    "\n",
    "\n",
    "for model in structure:\n",
    "    for chain in model:\n",
    "        for residue in chain:\n",
    "            for atom in residue:\n",
    "                #print(atom)\n",
    "                protein_sequence += PDB.Polypeptide.three_to_one(atom)\n",
    "print(protein_sequence)"
   ]
  },
  {
   "cell_type": "code",
   "execution_count": 35,
   "id": "b56f4e07-56f0-444e-9097-892c33268062",
   "metadata": {},
   "outputs": [
    {
     "name": "stdout",
     "output_type": "stream",
     "text": [
      "PYTVVYFPVRGRCAALRMLLADQGQSWKEEVVTVETWQEGSLKASCLYGQLPKFQDGDLTLYQSNTILRHLGRTLGLYGKDQQEAALVDMVNDGVEDLRCKYISLIYTNYEAGKDDYVKALPGQLKPFETLLSQNQGGKTFIVGDQISFADYNLLDLLLIHEVLAPGCLDAFPLLSAYVGRLSARPKLKAFLASPEYVNLPINGNGKQ\n",
      "PYTVVYFPVRGRCAALRMLLADQGQSWKEEVVTVETWQEGSLKASCLYGQLPKFQDGDLTLYQSNTILRHLGRTLGLYGKDQQEAALVDMVNDGVEDLRCKYISLIYTNYEAGKDDYVKALPGQLKPFETLLSQNQGGKTFIVGDQISFADYNLLDLLLIHEVLAPGCLDAFPLLSAYVGRLSARPKLKAFLASPEYVNLPINGNGKQ\n"
     ]
    },
    {
     "data": {
      "text/plain": [
       "'\\n# Using CA-CA\\nppb = PDB.CaPPBuilder()\\nfor pp in ppb.build_peptides(structure):\\n    print(pp.get_sequence())\\n'"
      ]
     },
     "execution_count": 35,
     "metadata": {},
     "output_type": "execute_result"
    }
   ],
   "source": [
    "from Bio import PDB\n",
    "# Using C-N\n",
    "\n",
    "# 创建PDB解析器\n",
    "parser = PDB.PDBParser(QUIET=True)\n",
    "\n",
    "# 读取PDB文件\n",
    "pdb_id = \"10gs_protein\"  # 替换为您的PDB文件ID\n",
    "filename = \"dataset/affinity/refined-set/10gs/10gs_protein.pdb\"\n",
    "structure = parser.get_structure(pdb_id, filename)  # 替换为您的PDB文件的路径\n",
    "\n",
    "ppb = PDB.PPBuilder()\n",
    "for pp in ppb.build_peptides(structure):\n",
    "    print(pp.get_sequence())\n",
    "'''\n",
    "# Using CA-CA\n",
    "ppb = PDB.CaPPBuilder()\n",
    "for pp in ppb.build_peptides(structure):\n",
    "    print(pp.get_sequence())\n",
    "'''"
   ]
  },
  {
   "cell_type": "code",
   "execution_count": null,
   "id": "84b97841-f6d9-41f3-9b6c-e449feb33c7f",
   "metadata": {},
   "outputs": [],
   "source": []
  }
 ],
 "metadata": {
  "kernelspec": {
   "display_name": "Python 3 (ipykernel)",
   "language": "python",
   "name": "python3"
  },
  "language_info": {
   "codemirror_mode": {
    "name": "ipython",
    "version": 3
   },
   "file_extension": ".py",
   "mimetype": "text/x-python",
   "name": "python",
   "nbconvert_exporter": "python",
   "pygments_lexer": "ipython3",
   "version": "3.8.10"
  },
  "widgets": {
   "application/vnd.jupyter.widget-state+json": {
    "state": {},
    "version_major": 2,
    "version_minor": 0
   }
  }
 },
 "nbformat": 4,
 "nbformat_minor": 5
}
